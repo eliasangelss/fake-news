{
 "cells": [
  {
   "cell_type": "code",
   "execution_count": 20,
   "id": "d5f22fd5",
   "metadata": {},
   "outputs": [],
   "source": [
    "import gc # garbage collection\n",
    "import re # regulates expressions/strings\n",
    "import pandas as pd\n",
    "import matplotlib.pyplot as plt"
   ]
  },
  {
   "cell_type": "code",
   "execution_count": 11,
   "id": "c66a2973",
   "metadata": {},
   "outputs": [
    {
     "name": "stdout",
     "output_type": "stream",
     "text": [
      "Preview of Fake News Articles:\n"
     ]
    },
    {
     "data": {
      "text/html": [
       "<div>\n",
       "<style scoped>\n",
       "    .dataframe tbody tr th:only-of-type {\n",
       "        vertical-align: middle;\n",
       "    }\n",
       "\n",
       "    .dataframe tbody tr th {\n",
       "        vertical-align: top;\n",
       "    }\n",
       "\n",
       "    .dataframe thead th {\n",
       "        text-align: right;\n",
       "    }\n",
       "</style>\n",
       "<table border=\"1\" class=\"dataframe\">\n",
       "  <thead>\n",
       "    <tr style=\"text-align: right;\">\n",
       "      <th></th>\n",
       "      <th>title</th>\n",
       "      <th>text</th>\n",
       "      <th>subject</th>\n",
       "      <th>date</th>\n",
       "    </tr>\n",
       "  </thead>\n",
       "  <tbody>\n",
       "    <tr>\n",
       "      <th>0</th>\n",
       "      <td>Donald Trump Sends Out Embarrassing New Year’...</td>\n",
       "      <td>Donald Trump just couldn t wish all Americans ...</td>\n",
       "      <td>News</td>\n",
       "      <td>December 31, 2017</td>\n",
       "    </tr>\n",
       "    <tr>\n",
       "      <th>1</th>\n",
       "      <td>Drunk Bragging Trump Staffer Started Russian ...</td>\n",
       "      <td>House Intelligence Committee Chairman Devin Nu...</td>\n",
       "      <td>News</td>\n",
       "      <td>December 31, 2017</td>\n",
       "    </tr>\n",
       "    <tr>\n",
       "      <th>2</th>\n",
       "      <td>Sheriff David Clarke Becomes An Internet Joke...</td>\n",
       "      <td>On Friday, it was revealed that former Milwauk...</td>\n",
       "      <td>News</td>\n",
       "      <td>December 30, 2017</td>\n",
       "    </tr>\n",
       "    <tr>\n",
       "      <th>3</th>\n",
       "      <td>Trump Is So Obsessed He Even Has Obama’s Name...</td>\n",
       "      <td>On Christmas day, Donald Trump announced that ...</td>\n",
       "      <td>News</td>\n",
       "      <td>December 29, 2017</td>\n",
       "    </tr>\n",
       "    <tr>\n",
       "      <th>4</th>\n",
       "      <td>Pope Francis Just Called Out Donald Trump Dur...</td>\n",
       "      <td>Pope Francis used his annual Christmas Day mes...</td>\n",
       "      <td>News</td>\n",
       "      <td>December 25, 2017</td>\n",
       "    </tr>\n",
       "  </tbody>\n",
       "</table>\n",
       "</div>"
      ],
      "text/plain": [
       "                                               title  \\\n",
       "0   Donald Trump Sends Out Embarrassing New Year’...   \n",
       "1   Drunk Bragging Trump Staffer Started Russian ...   \n",
       "2   Sheriff David Clarke Becomes An Internet Joke...   \n",
       "3   Trump Is So Obsessed He Even Has Obama’s Name...   \n",
       "4   Pope Francis Just Called Out Donald Trump Dur...   \n",
       "\n",
       "                                                text subject  \\\n",
       "0  Donald Trump just couldn t wish all Americans ...    News   \n",
       "1  House Intelligence Committee Chairman Devin Nu...    News   \n",
       "2  On Friday, it was revealed that former Milwauk...    News   \n",
       "3  On Christmas day, Donald Trump announced that ...    News   \n",
       "4  Pope Francis used his annual Christmas Day mes...    News   \n",
       "\n",
       "                date  \n",
       "0  December 31, 2017  \n",
       "1  December 31, 2017  \n",
       "2  December 30, 2017  \n",
       "3  December 29, 2017  \n",
       "4  December 25, 2017  "
      ]
     },
     "metadata": {},
     "output_type": "display_data"
    },
    {
     "name": "stdout",
     "output_type": "stream",
     "text": [
      "Preview of True News Articles:\n"
     ]
    },
    {
     "data": {
      "text/html": [
       "<div>\n",
       "<style scoped>\n",
       "    .dataframe tbody tr th:only-of-type {\n",
       "        vertical-align: middle;\n",
       "    }\n",
       "\n",
       "    .dataframe tbody tr th {\n",
       "        vertical-align: top;\n",
       "    }\n",
       "\n",
       "    .dataframe thead th {\n",
       "        text-align: right;\n",
       "    }\n",
       "</style>\n",
       "<table border=\"1\" class=\"dataframe\">\n",
       "  <thead>\n",
       "    <tr style=\"text-align: right;\">\n",
       "      <th></th>\n",
       "      <th>title</th>\n",
       "      <th>text</th>\n",
       "      <th>subject</th>\n",
       "      <th>date</th>\n",
       "    </tr>\n",
       "  </thead>\n",
       "  <tbody>\n",
       "    <tr>\n",
       "      <th>0</th>\n",
       "      <td>As U.S. budget fight looms, Republicans flip t...</td>\n",
       "      <td>WASHINGTON (Reuters) - The head of a conservat...</td>\n",
       "      <td>politicsNews</td>\n",
       "      <td>December 31, 2017</td>\n",
       "    </tr>\n",
       "    <tr>\n",
       "      <th>1</th>\n",
       "      <td>U.S. military to accept transgender recruits o...</td>\n",
       "      <td>WASHINGTON (Reuters) - Transgender people will...</td>\n",
       "      <td>politicsNews</td>\n",
       "      <td>December 29, 2017</td>\n",
       "    </tr>\n",
       "    <tr>\n",
       "      <th>2</th>\n",
       "      <td>Senior U.S. Republican senator: 'Let Mr. Muell...</td>\n",
       "      <td>WASHINGTON (Reuters) - The special counsel inv...</td>\n",
       "      <td>politicsNews</td>\n",
       "      <td>December 31, 2017</td>\n",
       "    </tr>\n",
       "    <tr>\n",
       "      <th>3</th>\n",
       "      <td>FBI Russia probe helped by Australian diplomat...</td>\n",
       "      <td>WASHINGTON (Reuters) - Trump campaign adviser ...</td>\n",
       "      <td>politicsNews</td>\n",
       "      <td>December 30, 2017</td>\n",
       "    </tr>\n",
       "    <tr>\n",
       "      <th>4</th>\n",
       "      <td>Trump wants Postal Service to charge 'much mor...</td>\n",
       "      <td>SEATTLE/WASHINGTON (Reuters) - President Donal...</td>\n",
       "      <td>politicsNews</td>\n",
       "      <td>December 29, 2017</td>\n",
       "    </tr>\n",
       "  </tbody>\n",
       "</table>\n",
       "</div>"
      ],
      "text/plain": [
       "                                               title  \\\n",
       "0  As U.S. budget fight looms, Republicans flip t...   \n",
       "1  U.S. military to accept transgender recruits o...   \n",
       "2  Senior U.S. Republican senator: 'Let Mr. Muell...   \n",
       "3  FBI Russia probe helped by Australian diplomat...   \n",
       "4  Trump wants Postal Service to charge 'much mor...   \n",
       "\n",
       "                                                text       subject  \\\n",
       "0  WASHINGTON (Reuters) - The head of a conservat...  politicsNews   \n",
       "1  WASHINGTON (Reuters) - Transgender people will...  politicsNews   \n",
       "2  WASHINGTON (Reuters) - The special counsel inv...  politicsNews   \n",
       "3  WASHINGTON (Reuters) - Trump campaign adviser ...  politicsNews   \n",
       "4  SEATTLE/WASHINGTON (Reuters) - President Donal...  politicsNews   \n",
       "\n",
       "                 date  \n",
       "0  December 31, 2017   \n",
       "1  December 29, 2017   \n",
       "2  December 31, 2017   \n",
       "3  December 30, 2017   \n",
       "4  December 29, 2017   "
      ]
     },
     "metadata": {},
     "output_type": "display_data"
    }
   ],
   "source": [
    "gc.collect() # removes unused/unneeded objects\n",
    "trueNews = pd.read_csv('newsData/True.csv')\n",
    "fakeNews = pd.read_csv('newsData/Fake.csv')\n",
    "\n",
    "print(\"Preview of Fake News Articles:\")\n",
    "display(fakeNews.head())\n",
    "print(\"Preview of True News Articles:\")\n",
    "display(trueNews.head())"
   ]
  },
  {
   "cell_type": "code",
   "execution_count": 12,
   "id": "53f67ca9",
   "metadata": {},
   "outputs": [
    {
     "name": "stdout",
     "output_type": "stream",
     "text": [
      "True News Dataset Shape: (21417, 4)\n",
      "Fake News Dataset Shape (23481, 4)\n",
      "\n",
      "Columns in the Dataset:\n",
      "Index(['title', 'text', 'subject', 'date'], dtype='object')\n",
      "\n",
      "Missing Values in True News:\n",
      "0\n",
      "\n",
      "Missing Values in Fake News:\n",
      "0\n"
     ]
    }
   ],
   "source": [
    "print(f\"True News Dataset Shape: {trueNews.shape}\")\n",
    "print(f\"Fake News Dataset Shape {fakeNews.shape}\")\n",
    "\n",
    "print(\"\\nColumns in the Dataset:\")\n",
    "print(trueNews.columns)\n",
    "\n",
    "print(\"\\nMissing Values in True News:\")\n",
    "print(trueNews.isnull().sum().sum())\n",
    "\n",
    "print(\"\\nMissing Values in Fake News:\")\n",
    "print(fakeNews.isnull().sum().sum())\n"
   ]
  },
  {
   "cell_type": "code",
   "execution_count": 13,
   "id": "172ef31f",
   "metadata": {},
   "outputs": [
    {
     "name": "stdout",
     "output_type": "stream",
     "text": [
      "<class 'pandas.core.frame.DataFrame'>\n",
      "RangeIndex: 21417 entries, 0 to 21416\n",
      "Data columns (total 4 columns):\n",
      " #   Column   Non-Null Count  Dtype \n",
      "---  ------   --------------  ----- \n",
      " 0   title    21417 non-null  object\n",
      " 1   text     21417 non-null  object\n",
      " 2   subject  21417 non-null  object\n",
      " 3   date     21417 non-null  object\n",
      "dtypes: object(4)\n",
      "memory usage: 669.4+ KB\n",
      "None\n",
      "\n",
      " subject\n",
      "politicsNews    11272\n",
      "worldnews       10145\n",
      "Name: count, dtype: int64\n",
      "\n",
      " title      20826\n",
      "text       21192\n",
      "subject        2\n",
      "date         716\n",
      "dtype: int64\n",
      "\n",
      " Duplicated rows: 206\n"
     ]
    }
   ],
   "source": [
    "print(trueNews.info())\n",
    "print(\"\\n\", trueNews['subject'].value_counts())\n",
    "print(\"\\n\", trueNews.nunique())\n",
    "print(\"\\n\", f\"Duplicated rows: {trueNews.duplicated().sum()}\")"
   ]
  },
  {
   "cell_type": "code",
   "execution_count": 14,
   "id": "a61d06c4",
   "metadata": {},
   "outputs": [
    {
     "name": "stdout",
     "output_type": "stream",
     "text": [
      "<class 'pandas.core.frame.DataFrame'>\n",
      "RangeIndex: 23481 entries, 0 to 23480\n",
      "Data columns (total 4 columns):\n",
      " #   Column   Non-Null Count  Dtype \n",
      "---  ------   --------------  ----- \n",
      " 0   title    23481 non-null  object\n",
      " 1   text     23481 non-null  object\n",
      " 2   subject  23481 non-null  object\n",
      " 3   date     23481 non-null  object\n",
      "dtypes: object(4)\n",
      "memory usage: 733.9+ KB\n",
      "None\n",
      "\n",
      " subject\n",
      "News               9050\n",
      "politics           6841\n",
      "left-news          4459\n",
      "Government News    1570\n",
      "US_News             783\n",
      "Middle-east         778\n",
      "Name: count, dtype: int64\n",
      "\n",
      " title      17903\n",
      "text       17455\n",
      "subject        6\n",
      "date        1681\n",
      "dtype: int64\n",
      "\n",
      " Duplicated rows: 3\n"
     ]
    }
   ],
   "source": [
    "print(fakeNews.info())\n",
    "print(\"\\n\", fakeNews['subject'].value_counts())\n",
    "print(\"\\n\", fakeNews.nunique())\n",
    "print(\"\\n\", f\"Duplicated rows: {fakeNews.duplicated().sum()}\")"
   ]
  },
  {
   "cell_type": "code",
   "execution_count": 15,
   "id": "5382c12b",
   "metadata": {},
   "outputs": [
    {
     "name": "stdout",
     "output_type": "stream",
     "text": [
      "Subjects in fakeNews after cleaning: ['worldnews' 'politicsNews']\n",
      "Cleaned Fake News shape: (15891, 4)\n",
      "Subjects i trueNews (already chosen): ['politicsNews' 'worldnews']\n"
     ]
    }
   ],
   "source": [
    "fakeNews = fakeNews[fakeNews['subject'].isin(['politics', 'News'])].copy() # filters data\n",
    "subjectMapping = { # maps news subjects\n",
    "    'politics': 'politicsNews',\n",
    "    'News': 'worldnews'\n",
    "}\n",
    "fakeNews['subject'] = fakeNews['subject'].map(subjectMapping)\n",
    "\n",
    "print(\"Subjects in fakeNews after cleaning:\", fakeNews['subject'].unique())\n",
    "print(f\"Cleaned Fake News shape: {fakeNews.shape}\")\n",
    "print(\"Subjects i trueNews (already chosen):\", trueNews['subject'].unique())"
   ]
  },
  {
   "cell_type": "code",
   "execution_count": 16,
   "id": "f9b1b978",
   "metadata": {},
   "outputs": [
    {
     "name": "stdout",
     "output_type": "stream",
     "text": [
      "Subjects in trueNews: ['politicsNews' 'worldnews']\n",
      "Subjects in fakeNews: ['worldnews' 'politicsNews']\n",
      "\n",
      "Missing subjects in trueNews: 0\n",
      "Missing subjects in fakeNews: 0\n",
      "\n",
      "True News shape: (21417, 4)\n",
      "Fake News shape:', (15891, 4)\n"
     ]
    }
   ],
   "source": [
    "# confirming consistency after cleaning\n",
    "\n",
    "print(\"Subjects in trueNews:\", trueNews['subject'].unique())\n",
    "print(\"Subjects in fakeNews:\", fakeNews['subject'].unique())\n",
    "\n",
    "print(\"\\nMissing subjects in trueNews:\", trueNews['subject'].isnull().sum())\n",
    "print(\"Missing subjects in fakeNews:\", fakeNews['subject'].isnull().sum())\n",
    "\n",
    "print(f\"\\nTrue News shape: {trueNews.shape}\")\n",
    "print(f\"Fake News shape:', {fakeNews.shape}\")"
   ]
  },
  {
   "cell_type": "markdown",
   "id": "59841564",
   "metadata": {},
   "source": [
    "note to self; for most deep learning cases, you'll want to use one-hot encoding \n",
    "* this is because it helps to avoid overfit and bias in the learning process\n",
    "* the computer might assume label encoding is a stand-in for rankings\n",
    "\n",
    "however, one-hot encoding would be considered overkill in this situation \n",
    "* specifically, it can increase memory usage\n",
    "* so, instead i'll use label encoding (as 0s and 1s) for the subjects"
   ]
  },
  {
   "cell_type": "code",
   "execution_count": 17,
   "id": "5e50440e",
   "metadata": {},
   "outputs": [
    {
     "name": "stdout",
     "output_type": "stream",
     "text": [
      "Combined Dataset Shape: (37308, 6)\n"
     ]
    },
    {
     "data": {
      "text/html": [
       "<div>\n",
       "<style scoped>\n",
       "    .dataframe tbody tr th:only-of-type {\n",
       "        vertical-align: middle;\n",
       "    }\n",
       "\n",
       "    .dataframe tbody tr th {\n",
       "        vertical-align: top;\n",
       "    }\n",
       "\n",
       "    .dataframe thead th {\n",
       "        text-align: right;\n",
       "    }\n",
       "</style>\n",
       "<table border=\"1\" class=\"dataframe\">\n",
       "  <thead>\n",
       "    <tr style=\"text-align: right;\">\n",
       "      <th></th>\n",
       "      <th>title</th>\n",
       "      <th>text</th>\n",
       "      <th>subject</th>\n",
       "      <th>date</th>\n",
       "      <th>labelAuthenticity</th>\n",
       "      <th>labelSubject</th>\n",
       "    </tr>\n",
       "  </thead>\n",
       "  <tbody>\n",
       "    <tr>\n",
       "      <th>0</th>\n",
       "      <td>As U.S. budget fight looms, Republicans flip t...</td>\n",
       "      <td>WASHINGTON (Reuters) - The head of a conservat...</td>\n",
       "      <td>politicsNews</td>\n",
       "      <td>December 31, 2017</td>\n",
       "      <td>1</td>\n",
       "      <td>0</td>\n",
       "    </tr>\n",
       "    <tr>\n",
       "      <th>1</th>\n",
       "      <td>U.S. military to accept transgender recruits o...</td>\n",
       "      <td>WASHINGTON (Reuters) - Transgender people will...</td>\n",
       "      <td>politicsNews</td>\n",
       "      <td>December 29, 2017</td>\n",
       "      <td>1</td>\n",
       "      <td>0</td>\n",
       "    </tr>\n",
       "    <tr>\n",
       "      <th>2</th>\n",
       "      <td>Senior U.S. Republican senator: 'Let Mr. Muell...</td>\n",
       "      <td>WASHINGTON (Reuters) - The special counsel inv...</td>\n",
       "      <td>politicsNews</td>\n",
       "      <td>December 31, 2017</td>\n",
       "      <td>1</td>\n",
       "      <td>0</td>\n",
       "    </tr>\n",
       "    <tr>\n",
       "      <th>3</th>\n",
       "      <td>FBI Russia probe helped by Australian diplomat...</td>\n",
       "      <td>WASHINGTON (Reuters) - Trump campaign adviser ...</td>\n",
       "      <td>politicsNews</td>\n",
       "      <td>December 30, 2017</td>\n",
       "      <td>1</td>\n",
       "      <td>0</td>\n",
       "    </tr>\n",
       "    <tr>\n",
       "      <th>4</th>\n",
       "      <td>Trump wants Postal Service to charge 'much mor...</td>\n",
       "      <td>SEATTLE/WASHINGTON (Reuters) - President Donal...</td>\n",
       "      <td>politicsNews</td>\n",
       "      <td>December 29, 2017</td>\n",
       "      <td>1</td>\n",
       "      <td>0</td>\n",
       "    </tr>\n",
       "  </tbody>\n",
       "</table>\n",
       "</div>"
      ],
      "text/plain": [
       "                                               title  \\\n",
       "0  As U.S. budget fight looms, Republicans flip t...   \n",
       "1  U.S. military to accept transgender recruits o...   \n",
       "2  Senior U.S. Republican senator: 'Let Mr. Muell...   \n",
       "3  FBI Russia probe helped by Australian diplomat...   \n",
       "4  Trump wants Postal Service to charge 'much mor...   \n",
       "\n",
       "                                                text       subject  \\\n",
       "0  WASHINGTON (Reuters) - The head of a conservat...  politicsNews   \n",
       "1  WASHINGTON (Reuters) - Transgender people will...  politicsNews   \n",
       "2  WASHINGTON (Reuters) - The special counsel inv...  politicsNews   \n",
       "3  WASHINGTON (Reuters) - Trump campaign adviser ...  politicsNews   \n",
       "4  SEATTLE/WASHINGTON (Reuters) - President Donal...  politicsNews   \n",
       "\n",
       "                 date  labelAuthenticity  labelSubject  \n",
       "0  December 31, 2017                   1             0  \n",
       "1  December 29, 2017                   1             0  \n",
       "2  December 31, 2017                   1             0  \n",
       "3  December 30, 2017                   1             0  \n",
       "4  December 29, 2017                   1             0  "
      ]
     },
     "metadata": {},
     "output_type": "display_data"
    }
   ],
   "source": [
    "# 1 = real news\n",
    "# 0 = fake news \n",
    "\n",
    "fakeNews['labelAuthenticity'] = 0\n",
    "trueNews['labelAuthenticity'] = 1\n",
    "\n",
    "# 1 = worldnews\n",
    "# 0 for politicsNews\n",
    "\n",
    "subjectMapping = {\n",
    "    'politicsNews': 0,\n",
    "    'worldnews': 1\n",
    "}\n",
    "\n",
    "trueNews['labelSubject'] = trueNews['subject'].map(subjectMapping)\n",
    "fakeNews['labelSubject'] = fakeNews['subject'].map(subjectMapping)\n",
    "\n",
    "newsDF = pd.concat([trueNews, fakeNews], ignore_index = True)\n",
    "print(\"Combined Dataset Shape:\", newsDF.shape) # combined for ease of cleaning\n",
    "display(newsDF.head())\n",
    "\n",
    "# note ; ignore_index is NOT a user-made variable"
   ]
  },
  {
   "cell_type": "code",
   "execution_count": null,
   "id": "37b563e5",
   "metadata": {},
   "outputs": [
    {
     "data": {
      "text/html": [
       "<div>\n",
       "<style scoped>\n",
       "    .dataframe tbody tr th:only-of-type {\n",
       "        vertical-align: middle;\n",
       "    }\n",
       "\n",
       "    .dataframe tbody tr th {\n",
       "        vertical-align: top;\n",
       "    }\n",
       "\n",
       "    .dataframe thead th {\n",
       "        text-align: right;\n",
       "    }\n",
       "</style>\n",
       "<table border=\"1\" class=\"dataframe\">\n",
       "  <thead>\n",
       "    <tr style=\"text-align: right;\">\n",
       "      <th></th>\n",
       "      <th>title</th>\n",
       "      <th>cleanTitle</th>\n",
       "      <th>cleanText</th>\n",
       "    </tr>\n",
       "  </thead>\n",
       "  <tbody>\n",
       "    <tr>\n",
       "      <th>0</th>\n",
       "      <td>As U.S. budget fight looms, Republicans flip t...</td>\n",
       "      <td>as us budget fight looms republicans flip thei...</td>\n",
       "      <td>washington reuters the head of a conservative ...</td>\n",
       "    </tr>\n",
       "    <tr>\n",
       "      <th>1</th>\n",
       "      <td>U.S. military to accept transgender recruits o...</td>\n",
       "      <td>us military to accept transgender recruits on ...</td>\n",
       "      <td>washington reuters transgender people will be ...</td>\n",
       "    </tr>\n",
       "    <tr>\n",
       "      <th>2</th>\n",
       "      <td>Senior U.S. Republican senator: 'Let Mr. Muell...</td>\n",
       "      <td>senior us republican senator let mr mueller do...</td>\n",
       "      <td>washington reuters the special counsel investi...</td>\n",
       "    </tr>\n",
       "    <tr>\n",
       "      <th>3</th>\n",
       "      <td>FBI Russia probe helped by Australian diplomat...</td>\n",
       "      <td>fbi russia probe helped by australian diplomat...</td>\n",
       "      <td>washington reuters trump campaign adviser geor...</td>\n",
       "    </tr>\n",
       "    <tr>\n",
       "      <th>4</th>\n",
       "      <td>Trump wants Postal Service to charge 'much mor...</td>\n",
       "      <td>trump wants postal service to charge much more...</td>\n",
       "      <td>seattlewashington reuters president donald tru...</td>\n",
       "    </tr>\n",
       "  </tbody>\n",
       "</table>\n",
       "</div>"
      ],
      "text/plain": [
       "                                               title  \\\n",
       "0  As U.S. budget fight looms, Republicans flip t...   \n",
       "1  U.S. military to accept transgender recruits o...   \n",
       "2  Senior U.S. Republican senator: 'Let Mr. Muell...   \n",
       "3  FBI Russia probe helped by Australian diplomat...   \n",
       "4  Trump wants Postal Service to charge 'much mor...   \n",
       "\n",
       "                                          cleanTitle  \\\n",
       "0  as us budget fight looms republicans flip thei...   \n",
       "1  us military to accept transgender recruits on ...   \n",
       "2  senior us republican senator let mr mueller do...   \n",
       "3  fbi russia probe helped by australian diplomat...   \n",
       "4  trump wants postal service to charge much more...   \n",
       "\n",
       "                                           cleanText  \n",
       "0  washington reuters the head of a conservative ...  \n",
       "1  washington reuters transgender people will be ...  \n",
       "2  washington reuters the special counsel investi...  \n",
       "3  washington reuters trump campaign adviser geor...  \n",
       "4  seattlewashington reuters president donald tru...  "
      ]
     },
     "metadata": {},
     "output_type": "display_data"
    }
   ],
   "source": [
    "# cleaning the data from uppercase, urls, and extra spaces\n",
    "\n",
    "def cleanText(text):\n",
    "    text = text.lower() # lowercase\n",
    "    text = re.sub(r'http\\S+|www\\S+', '', text) # remove urls\n",
    "    text = re.sub(r'<.*?>', '', text) # remove html\n",
    "    text = re.sub(r'[^a-z\\s]', '', text) # remove symbols\n",
    "    text = re.sub(r'\\s+', ' ', text) # remove extra space\n",
    "    return text\n",
    "\n",
    "newsDF['cleanText'] = newsDF['text'].apply(cleanText)\n",
    "newsDF['cleanTitle'] = newsDF['title'].apply(cleanText)\n",
    "display(newsDF[['title', 'cleanTitle', 'cleanText']].head())\n",
    "\n",
    "# note; re.sub lists the pattern to replace, empty space, and then the saved text"
   ]
  },
  {
   "cell_type": "code",
   "execution_count": null,
   "id": "a4093688",
   "metadata": {},
   "outputs": [
    {
     "name": "stdout",
     "output_type": "stream",
     "text": [
      "Removed 716 duplicate articles\n",
      "New dataset size: 36592 rows\n"
     ]
    }
   ],
   "source": [
    "# finishing cleaning by removing the duplicate articles\n",
    "\n",
    "before = newsDF.shape[0]\n",
    "newsDF = newsDF.drop_duplicates(subset='cleanText').reset_index(drop = True)\n",
    "after = newsDF.shape[0]\n",
    "\n",
    "print(f\"Removed {before - after} duplicate articles\")\n",
    "print(f\"New dataset size: {after} rows\")"
   ]
  },
  {
   "cell_type": "code",
   "execution_count": 23,
   "id": "2483f786",
   "metadata": {},
   "outputs": [
    {
     "data": {
      "image/png": "[encoded data removed]",
      "text/plain": [
       "<Figure size 600x400 with 1 Axes>"
      ]
     },
     "metadata": {},
     "output_type": "display_data"
    },
    {
     "data": {
      "image/png": "[encoded data removed]",
      "text/plain": [
       "<Figure size 600x400 with 1 Axes>"
      ]
     },
     "metadata": {},
     "output_type": "display_data"
    }
   ],
   "source": [
    "authCounts = newsDF['labelAuthenticity'].value_counts()\n",
    "authLabels = ['Real News (1)', 'Fake News (0)']\n",
    "\n",
    "plt.figure(figsize = (6, 4))\n",
    "plt.bar(authLabels, authCounts)\n",
    "plt.title(\"Distribution of Fake vs Real News\")\n",
    "plt.ylabel(\"Number of Articles\")\n",
    "plt.show()\n",
    "\n",
    "subjectCounts = newsDF['labelSubject'].value_counts()\n",
    "subjectLabels = ['Politics News (0)', 'World News (1)']\n",
    "\n",
    "plt.figure(figsize = (6, 4))\n",
    "plt.bar(subjectLabels, subjectCounts, color = 'Orange')\n",
    "plt.title(\"Distribution of Subject Categories\")\n",
    "plt.ylabel(\"Number of Articles\")\n",
    "plt.show()"
   ]
  }
 ],
 "metadata": {
  "kernelspec": {
   "display_name": "Python 3",
   "language": "python",
   "name": "python3"
  },
  "language_info": {
   "codemirror_mode": {
    "name": "ipython",
    "version": 3
   },
   "file_extension": ".py",
   "mimetype": "text/x-python",
   "name": "python",
   "nbconvert_exporter": "python",
   "pygments_lexer": "ipython3",
   "version": "3.12.4"
  }
 },
 "nbformat": 4,
 "nbformat_minor": 5
}
