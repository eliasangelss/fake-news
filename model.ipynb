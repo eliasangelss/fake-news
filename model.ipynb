{
 "cells": [
  {
   "cell_type": "code",
   "execution_count": 29,
   "id": "d5f22fd5",
   "metadata": {},
   "outputs": [],
   "source": [
    "import gc # garbage collection\n",
    "import re # regulates expressions/strings\n",
    "import pandas as pd\n",
    "import numpy as np\n",
    "import matplotlib.pyplot as plt\n",
    "from sklearn.model_selection import train_test_split\n",
    "from sklearn.metrics.pairwise import cosine_similarity\n",
    "from sklearn.model_selection import train_test_split\n",
    "from sklearn.metrics import classification_report, f1_score\n",
    "from transformers import BertTokenizer, BertModel\n",
    "import torch\n",
    "import torch.nn as nn\n",
    "from torch.utils.data import Dataset\n",
    "from torch.utils.data import DataLoader\n",
    "from torch.optim import AdamW\n",
    "import time"
   ]
  },
  {
   "cell_type": "code",
   "execution_count": 2,
   "id": "c66a2973",
   "metadata": {},
   "outputs": [
    {
     "name": "stdout",
     "output_type": "stream",
     "text": [
      "Preview of Fake News Articles:\n"
     ]
    },
    {
     "data": {
      "text/html": [
       "<div>\n",
       "<style scoped>\n",
       "    .dataframe tbody tr th:only-of-type {\n",
       "        vertical-align: middle;\n",
       "    }\n",
       "\n",
       "    .dataframe tbody tr th {\n",
       "        vertical-align: top;\n",
       "    }\n",
       "\n",
       "    .dataframe thead th {\n",
       "        text-align: right;\n",
       "    }\n",
       "</style>\n",
       "<table border=\"1\" class=\"dataframe\">\n",
       "  <thead>\n",
       "    <tr style=\"text-align: right;\">\n",
       "      <th></th>\n",
       "      <th>title</th>\n",
       "      <th>text</th>\n",
       "      <th>subject</th>\n",
       "      <th>date</th>\n",
       "    </tr>\n",
       "  </thead>\n",
       "  <tbody>\n",
       "    <tr>\n",
       "      <th>0</th>\n",
       "      <td>Donald Trump Sends Out Embarrassing New Year’...</td>\n",
       "      <td>Donald Trump just couldn t wish all Americans ...</td>\n",
       "      <td>News</td>\n",
       "      <td>December 31, 2017</td>\n",
       "    </tr>\n",
       "    <tr>\n",
       "      <th>1</th>\n",
       "      <td>Drunk Bragging Trump Staffer Started Russian ...</td>\n",
       "      <td>House Intelligence Committee Chairman Devin Nu...</td>\n",
       "      <td>News</td>\n",
       "      <td>December 31, 2017</td>\n",
       "    </tr>\n",
       "    <tr>\n",
       "      <th>2</th>\n",
       "      <td>Sheriff David Clarke Becomes An Internet Joke...</td>\n",
       "      <td>On Friday, it was revealed that former Milwauk...</td>\n",
       "      <td>News</td>\n",
       "      <td>December 30, 2017</td>\n",
       "    </tr>\n",
       "    <tr>\n",
       "      <th>3</th>\n",
       "      <td>Trump Is So Obsessed He Even Has Obama’s Name...</td>\n",
       "      <td>On Christmas day, Donald Trump announced that ...</td>\n",
       "      <td>News</td>\n",
       "      <td>December 29, 2017</td>\n",
       "    </tr>\n",
       "    <tr>\n",
       "      <th>4</th>\n",
       "      <td>Pope Francis Just Called Out Donald Trump Dur...</td>\n",
       "      <td>Pope Francis used his annual Christmas Day mes...</td>\n",
       "      <td>News</td>\n",
       "      <td>December 25, 2017</td>\n",
       "    </tr>\n",
       "  </tbody>\n",
       "</table>\n",
       "</div>"
      ],
      "text/plain": [
       "                                               title  \\\n",
       "0   Donald Trump Sends Out Embarrassing New Year’...   \n",
       "1   Drunk Bragging Trump Staffer Started Russian ...   \n",
       "2   Sheriff David Clarke Becomes An Internet Joke...   \n",
       "3   Trump Is So Obsessed He Even Has Obama’s Name...   \n",
       "4   Pope Francis Just Called Out Donald Trump Dur...   \n",
       "\n",
       "                                                text subject  \\\n",
       "0  Donald Trump just couldn t wish all Americans ...    News   \n",
       "1  House Intelligence Committee Chairman Devin Nu...    News   \n",
       "2  On Friday, it was revealed that former Milwauk...    News   \n",
       "3  On Christmas day, Donald Trump announced that ...    News   \n",
       "4  Pope Francis used his annual Christmas Day mes...    News   \n",
       "\n",
       "                date  \n",
       "0  December 31, 2017  \n",
       "1  December 31, 2017  \n",
       "2  December 30, 2017  \n",
       "3  December 29, 2017  \n",
       "4  December 25, 2017  "
      ]
     },
     "metadata": {},
     "output_type": "display_data"
    },
    {
     "name": "stdout",
     "output_type": "stream",
     "text": [
      "Preview of True News Articles:\n"
     ]
    },
    {
     "data": {
      "text/html": [
       "<div>\n",
       "<style scoped>\n",
       "    .dataframe tbody tr th:only-of-type {\n",
       "        vertical-align: middle;\n",
       "    }\n",
       "\n",
       "    .dataframe tbody tr th {\n",
       "        vertical-align: top;\n",
       "    }\n",
       "\n",
       "    .dataframe thead th {\n",
       "        text-align: right;\n",
       "    }\n",
       "</style>\n",
       "<table border=\"1\" class=\"dataframe\">\n",
       "  <thead>\n",
       "    <tr style=\"text-align: right;\">\n",
       "      <th></th>\n",
       "      <th>title</th>\n",
       "      <th>text</th>\n",
       "      <th>subject</th>\n",
       "      <th>date</th>\n",
       "    </tr>\n",
       "  </thead>\n",
       "  <tbody>\n",
       "    <tr>\n",
       "      <th>0</th>\n",
       "      <td>As U.S. budget fight looms, Republicans flip t...</td>\n",
       "      <td>WASHINGTON (Reuters) - The head of a conservat...</td>\n",
       "      <td>politicsNews</td>\n",
       "      <td>December 31, 2017</td>\n",
       "    </tr>\n",
       "    <tr>\n",
       "      <th>1</th>\n",
       "      <td>U.S. military to accept transgender recruits o...</td>\n",
       "      <td>WASHINGTON (Reuters) - Transgender people will...</td>\n",
       "      <td>politicsNews</td>\n",
       "      <td>December 29, 2017</td>\n",
       "    </tr>\n",
       "    <tr>\n",
       "      <th>2</th>\n",
       "      <td>Senior U.S. Republican senator: 'Let Mr. Muell...</td>\n",
       "      <td>WASHINGTON (Reuters) - The special counsel inv...</td>\n",
       "      <td>politicsNews</td>\n",
       "      <td>December 31, 2017</td>\n",
       "    </tr>\n",
       "    <tr>\n",
       "      <th>3</th>\n",
       "      <td>FBI Russia probe helped by Australian diplomat...</td>\n",
       "      <td>WASHINGTON (Reuters) - Trump campaign adviser ...</td>\n",
       "      <td>politicsNews</td>\n",
       "      <td>December 30, 2017</td>\n",
       "    </tr>\n",
       "    <tr>\n",
       "      <th>4</th>\n",
       "      <td>Trump wants Postal Service to charge 'much mor...</td>\n",
       "      <td>SEATTLE/WASHINGTON (Reuters) - President Donal...</td>\n",
       "      <td>politicsNews</td>\n",
       "      <td>December 29, 2017</td>\n",
       "    </tr>\n",
       "  </tbody>\n",
       "</table>\n",
       "</div>"
      ],
      "text/plain": [
       "                                               title  \\\n",
       "0  As U.S. budget fight looms, Republicans flip t...   \n",
       "1  U.S. military to accept transgender recruits o...   \n",
       "2  Senior U.S. Republican senator: 'Let Mr. Muell...   \n",
       "3  FBI Russia probe helped by Australian diplomat...   \n",
       "4  Trump wants Postal Service to charge 'much mor...   \n",
       "\n",
       "                                                text       subject  \\\n",
       "0  WASHINGTON (Reuters) - The head of a conservat...  politicsNews   \n",
       "1  WASHINGTON (Reuters) - Transgender people will...  politicsNews   \n",
       "2  WASHINGTON (Reuters) - The special counsel inv...  politicsNews   \n",
       "3  WASHINGTON (Reuters) - Trump campaign adviser ...  politicsNews   \n",
       "4  SEATTLE/WASHINGTON (Reuters) - President Donal...  politicsNews   \n",
       "\n",
       "                 date  \n",
       "0  December 31, 2017   \n",
       "1  December 29, 2017   \n",
       "2  December 31, 2017   \n",
       "3  December 30, 2017   \n",
       "4  December 29, 2017   "
      ]
     },
     "metadata": {},
     "output_type": "display_data"
    }
   ],
   "source": [
    "gc.collect() # removes unused/unneeded objects\n",
    "trueNews = pd.read_csv('newsData/True.csv')\n",
    "fakeNews = pd.read_csv('newsData/Fake.csv')\n",
    "\n",
    "print(\"Preview of Fake News Articles:\")\n",
    "display(fakeNews.head())\n",
    "print(\"Preview of True News Articles:\")\n",
    "display(trueNews.head())"
   ]
  },
  {
   "cell_type": "code",
   "execution_count": 3,
   "id": "53f67ca9",
   "metadata": {},
   "outputs": [
    {
     "name": "stdout",
     "output_type": "stream",
     "text": [
      "True News Dataset Shape: (21417, 4)\n",
      "Fake News Dataset Shape (23481, 4)\n",
      "\n",
      "Columns in the Dataset:\n",
      "Index(['title', 'text', 'subject', 'date'], dtype='object')\n",
      "\n",
      "Missing Values in True News:\n",
      "0\n",
      "\n",
      "Missing Values in Fake News:\n",
      "0\n"
     ]
    }
   ],
   "source": [
    "print(f\"True News Dataset Shape: {trueNews.shape}\")\n",
    "print(f\"Fake News Dataset Shape {fakeNews.shape}\")\n",
    "\n",
    "print(\"\\nColumns in the Dataset:\")\n",
    "print(trueNews.columns)\n",
    "\n",
    "print(\"\\nMissing Values in True News:\")\n",
    "print(trueNews.isnull().sum().sum())\n",
    "\n",
    "print(\"\\nMissing Values in Fake News:\")\n",
    "print(fakeNews.isnull().sum().sum())\n"
   ]
  },
  {
   "cell_type": "code",
   "execution_count": 4,
   "id": "172ef31f",
   "metadata": {},
   "outputs": [
    {
     "name": "stdout",
     "output_type": "stream",
     "text": [
      "<class 'pandas.core.frame.DataFrame'>\n",
      "RangeIndex: 21417 entries, 0 to 21416\n",
      "Data columns (total 4 columns):\n",
      " #   Column   Non-Null Count  Dtype \n",
      "---  ------   --------------  ----- \n",
      " 0   title    21417 non-null  object\n",
      " 1   text     21417 non-null  object\n",
      " 2   subject  21417 non-null  object\n",
      " 3   date     21417 non-null  object\n",
      "dtypes: object(4)\n",
      "memory usage: 669.4+ KB\n",
      "None\n",
      "\n",
      " subject\n",
      "politicsNews    11272\n",
      "worldnews       10145\n",
      "Name: count, dtype: int64\n",
      "\n",
      " title      20826\n",
      "text       21192\n",
      "subject        2\n",
      "date         716\n",
      "dtype: int64\n",
      "\n",
      " Duplicated rows: 206\n"
     ]
    }
   ],
   "source": [
    "print(trueNews.info())\n",
    "print(\"\\n\", trueNews['subject'].value_counts())\n",
    "print(\"\\n\", trueNews.nunique())\n",
    "print(\"\\n\", f\"Duplicated rows: {trueNews.duplicated().sum()}\")"
   ]
  },
  {
   "cell_type": "code",
   "execution_count": 5,
   "id": "a61d06c4",
   "metadata": {},
   "outputs": [
    {
     "name": "stdout",
     "output_type": "stream",
     "text": [
      "<class 'pandas.core.frame.DataFrame'>\n",
      "RangeIndex: 23481 entries, 0 to 23480\n",
      "Data columns (total 4 columns):\n",
      " #   Column   Non-Null Count  Dtype \n",
      "---  ------   --------------  ----- \n",
      " 0   title    23481 non-null  object\n",
      " 1   text     23481 non-null  object\n",
      " 2   subject  23481 non-null  object\n",
      " 3   date     23481 non-null  object\n",
      "dtypes: object(4)\n",
      "memory usage: 733.9+ KB\n",
      "None\n",
      "\n",
      " subject\n",
      "News               9050\n",
      "politics           6841\n",
      "left-news          4459\n",
      "Government News    1570\n",
      "US_News             783\n",
      "Middle-east         778\n",
      "Name: count, dtype: int64\n",
      "\n",
      " title      17903\n",
      "text       17455\n",
      "subject        6\n",
      "date        1681\n",
      "dtype: int64\n",
      "\n",
      " Duplicated rows: 3\n"
     ]
    }
   ],
   "source": [
    "print(fakeNews.info())\n",
    "print(\"\\n\", fakeNews['subject'].value_counts())\n",
    "print(\"\\n\", fakeNews.nunique())\n",
    "print(\"\\n\", f\"Duplicated rows: {fakeNews.duplicated().sum()}\")"
   ]
  },
  {
   "cell_type": "code",
   "execution_count": 6,
   "id": "5382c12b",
   "metadata": {},
   "outputs": [
    {
     "name": "stdout",
     "output_type": "stream",
     "text": [
      "Subjects in fakeNews after cleaning: ['worldnews' 'politicsNews']\n",
      "Cleaned Fake News shape: (15891, 4)\n",
      "Subjects i trueNews (already chosen): ['politicsNews' 'worldnews']\n"
     ]
    }
   ],
   "source": [
    "fakeNews = fakeNews[fakeNews['subject'].isin(['politics', 'News'])].copy() # filters data\n",
    "subjectMapping = { # maps news subjects\n",
    "    'politics': 'politicsNews',\n",
    "    'News': 'worldnews'\n",
    "}\n",
    "fakeNews['subject'] = fakeNews['subject'].map(subjectMapping)\n",
    "\n",
    "print(\"Subjects in fakeNews after cleaning:\", fakeNews['subject'].unique())\n",
    "print(f\"Cleaned Fake News shape: {fakeNews.shape}\")\n",
    "print(\"Subjects i trueNews (already chosen):\", trueNews['subject'].unique())"
   ]
  },
  {
   "cell_type": "code",
   "execution_count": 7,
   "id": "f9b1b978",
   "metadata": {},
   "outputs": [
    {
     "name": "stdout",
     "output_type": "stream",
     "text": [
      "Subjects in trueNews: ['politicsNews' 'worldnews']\n",
      "Subjects in fakeNews: ['worldnews' 'politicsNews']\n",
      "\n",
      "Missing subjects in trueNews: 0\n",
      "Missing subjects in fakeNews: 0\n",
      "\n",
      "True News shape: (21417, 4)\n",
      "Fake News shape:', (15891, 4)\n"
     ]
    }
   ],
   "source": [
    "# confirming consistency after cleaning\n",
    "\n",
    "print(\"Subjects in trueNews:\", trueNews['subject'].unique())\n",
    "print(\"Subjects in fakeNews:\", fakeNews['subject'].unique())\n",
    "\n",
    "print(\"\\nMissing subjects in trueNews:\", trueNews['subject'].isnull().sum())\n",
    "print(\"Missing subjects in fakeNews:\", fakeNews['subject'].isnull().sum())\n",
    "\n",
    "print(f\"\\nTrue News shape: {trueNews.shape}\")\n",
    "print(f\"Fake News shape:', {fakeNews.shape}\")"
   ]
  },
  {
   "cell_type": "markdown",
   "id": "59841564",
   "metadata": {},
   "source": [
    "note to self; for most deep learning cases, you'll want to use one-hot encoding \n",
    "* this is because it helps to avoid overfit and bias in the learning process\n",
    "* the computer might assume label encoding is a stand-in for rankings\n",
    "\n",
    "however, one-hot encoding would be considered overkill in this situation \n",
    "* specifically, it can increase memory usage\n",
    "* so, instead i'll use label encoding (as 0s and 1s) for the subjects"
   ]
  },
  {
   "cell_type": "code",
   "execution_count": 8,
   "id": "5e50440e",
   "metadata": {},
   "outputs": [
    {
     "name": "stdout",
     "output_type": "stream",
     "text": [
      "Combined Dataset Shape: (37308, 6)\n"
     ]
    },
    {
     "data": {
      "text/html": [
       "<div>\n",
       "<style scoped>\n",
       "    .dataframe tbody tr th:only-of-type {\n",
       "        vertical-align: middle;\n",
       "    }\n",
       "\n",
       "    .dataframe tbody tr th {\n",
       "        vertical-align: top;\n",
       "    }\n",
       "\n",
       "    .dataframe thead th {\n",
       "        text-align: right;\n",
       "    }\n",
       "</style>\n",
       "<table border=\"1\" class=\"dataframe\">\n",
       "  <thead>\n",
       "    <tr style=\"text-align: right;\">\n",
       "      <th></th>\n",
       "      <th>title</th>\n",
       "      <th>text</th>\n",
       "      <th>subject</th>\n",
       "      <th>date</th>\n",
       "      <th>labelAuthenticity</th>\n",
       "      <th>labelSubject</th>\n",
       "    </tr>\n",
       "  </thead>\n",
       "  <tbody>\n",
       "    <tr>\n",
       "      <th>0</th>\n",
       "      <td>As U.S. budget fight looms, Republicans flip t...</td>\n",
       "      <td>WASHINGTON (Reuters) - The head of a conservat...</td>\n",
       "      <td>politicsNews</td>\n",
       "      <td>December 31, 2017</td>\n",
       "      <td>1</td>\n",
       "      <td>0</td>\n",
       "    </tr>\n",
       "    <tr>\n",
       "      <th>1</th>\n",
       "      <td>U.S. military to accept transgender recruits o...</td>\n",
       "      <td>WASHINGTON (Reuters) - Transgender people will...</td>\n",
       "      <td>politicsNews</td>\n",
       "      <td>December 29, 2017</td>\n",
       "      <td>1</td>\n",
       "      <td>0</td>\n",
       "    </tr>\n",
       "    <tr>\n",
       "      <th>2</th>\n",
       "      <td>Senior U.S. Republican senator: 'Let Mr. Muell...</td>\n",
       "      <td>WASHINGTON (Reuters) - The special counsel inv...</td>\n",
       "      <td>politicsNews</td>\n",
       "      <td>December 31, 2017</td>\n",
       "      <td>1</td>\n",
       "      <td>0</td>\n",
       "    </tr>\n",
       "    <tr>\n",
       "      <th>3</th>\n",
       "      <td>FBI Russia probe helped by Australian diplomat...</td>\n",
       "      <td>WASHINGTON (Reuters) - Trump campaign adviser ...</td>\n",
       "      <td>politicsNews</td>\n",
       "      <td>December 30, 2017</td>\n",
       "      <td>1</td>\n",
       "      <td>0</td>\n",
       "    </tr>\n",
       "    <tr>\n",
       "      <th>4</th>\n",
       "      <td>Trump wants Postal Service to charge 'much mor...</td>\n",
       "      <td>SEATTLE/WASHINGTON (Reuters) - President Donal...</td>\n",
       "      <td>politicsNews</td>\n",
       "      <td>December 29, 2017</td>\n",
       "      <td>1</td>\n",
       "      <td>0</td>\n",
       "    </tr>\n",
       "  </tbody>\n",
       "</table>\n",
       "</div>"
      ],
      "text/plain": [
       "                                               title  \\\n",
       "0  As U.S. budget fight looms, Republicans flip t...   \n",
       "1  U.S. military to accept transgender recruits o...   \n",
       "2  Senior U.S. Republican senator: 'Let Mr. Muell...   \n",
       "3  FBI Russia probe helped by Australian diplomat...   \n",
       "4  Trump wants Postal Service to charge 'much mor...   \n",
       "\n",
       "                                                text       subject  \\\n",
       "0  WASHINGTON (Reuters) - The head of a conservat...  politicsNews   \n",
       "1  WASHINGTON (Reuters) - Transgender people will...  politicsNews   \n",
       "2  WASHINGTON (Reuters) - The special counsel inv...  politicsNews   \n",
       "3  WASHINGTON (Reuters) - Trump campaign adviser ...  politicsNews   \n",
       "4  SEATTLE/WASHINGTON (Reuters) - President Donal...  politicsNews   \n",
       "\n",
       "                 date  labelAuthenticity  labelSubject  \n",
       "0  December 31, 2017                   1             0  \n",
       "1  December 29, 2017                   1             0  \n",
       "2  December 31, 2017                   1             0  \n",
       "3  December 30, 2017                   1             0  \n",
       "4  December 29, 2017                   1             0  "
      ]
     },
     "metadata": {},
     "output_type": "display_data"
    }
   ],
   "source": [
    "# 1 = real news\n",
    "# 0 = fake news \n",
    "\n",
    "fakeNews['labelAuthenticity'] = 0\n",
    "trueNews['labelAuthenticity'] = 1\n",
    "\n",
    "# 1 = worldnews\n",
    "# 0 for politicsNews\n",
    "\n",
    "subjectMapping = {\n",
    "    'politicsNews': 0,\n",
    "    'worldnews': 1\n",
    "}\n",
    "\n",
    "trueNews['labelSubject'] = trueNews['subject'].map(subjectMapping)\n",
    "fakeNews['labelSubject'] = fakeNews['subject'].map(subjectMapping)\n",
    "\n",
    "newsDF = pd.concat([trueNews, fakeNews], ignore_index = True)\n",
    "print(\"Combined Dataset Shape:\", newsDF.shape) # combined for ease of cleaning\n",
    "display(newsDF.head())\n",
    "\n",
    "# note ; ignore_index is NOT a user-made variable"
   ]
  },
  {
   "cell_type": "code",
   "execution_count": 9,
   "id": "37b563e5",
   "metadata": {},
   "outputs": [
    {
     "data": {
      "text/html": [
       "<div>\n",
       "<style scoped>\n",
       "    .dataframe tbody tr th:only-of-type {\n",
       "        vertical-align: middle;\n",
       "    }\n",
       "\n",
       "    .dataframe tbody tr th {\n",
       "        vertical-align: top;\n",
       "    }\n",
       "\n",
       "    .dataframe thead th {\n",
       "        text-align: right;\n",
       "    }\n",
       "</style>\n",
       "<table border=\"1\" class=\"dataframe\">\n",
       "  <thead>\n",
       "    <tr style=\"text-align: right;\">\n",
       "      <th></th>\n",
       "      <th>title</th>\n",
       "      <th>cleanTitle</th>\n",
       "      <th>cleanText</th>\n",
       "    </tr>\n",
       "  </thead>\n",
       "  <tbody>\n",
       "    <tr>\n",
       "      <th>0</th>\n",
       "      <td>As U.S. budget fight looms, Republicans flip t...</td>\n",
       "      <td>as us budget fight looms republicans flip thei...</td>\n",
       "      <td>washington reuters the head of a conservative ...</td>\n",
       "    </tr>\n",
       "    <tr>\n",
       "      <th>1</th>\n",
       "      <td>U.S. military to accept transgender recruits o...</td>\n",
       "      <td>us military to accept transgender recruits on ...</td>\n",
       "      <td>washington reuters transgender people will be ...</td>\n",
       "    </tr>\n",
       "    <tr>\n",
       "      <th>2</th>\n",
       "      <td>Senior U.S. Republican senator: 'Let Mr. Muell...</td>\n",
       "      <td>senior us republican senator let mr mueller do...</td>\n",
       "      <td>washington reuters the special counsel investi...</td>\n",
       "    </tr>\n",
       "    <tr>\n",
       "      <th>3</th>\n",
       "      <td>FBI Russia probe helped by Australian diplomat...</td>\n",
       "      <td>fbi russia probe helped by australian diplomat...</td>\n",
       "      <td>washington reuters trump campaign adviser geor...</td>\n",
       "    </tr>\n",
       "    <tr>\n",
       "      <th>4</th>\n",
       "      <td>Trump wants Postal Service to charge 'much mor...</td>\n",
       "      <td>trump wants postal service to charge much more...</td>\n",
       "      <td>seattlewashington reuters president donald tru...</td>\n",
       "    </tr>\n",
       "  </tbody>\n",
       "</table>\n",
       "</div>"
      ],
      "text/plain": [
       "                                               title  \\\n",
       "0  As U.S. budget fight looms, Republicans flip t...   \n",
       "1  U.S. military to accept transgender recruits o...   \n",
       "2  Senior U.S. Republican senator: 'Let Mr. Muell...   \n",
       "3  FBI Russia probe helped by Australian diplomat...   \n",
       "4  Trump wants Postal Service to charge 'much mor...   \n",
       "\n",
       "                                          cleanTitle  \\\n",
       "0  as us budget fight looms republicans flip thei...   \n",
       "1  us military to accept transgender recruits on ...   \n",
       "2  senior us republican senator let mr mueller do...   \n",
       "3  fbi russia probe helped by australian diplomat...   \n",
       "4  trump wants postal service to charge much more...   \n",
       "\n",
       "                                           cleanText  \n",
       "0  washington reuters the head of a conservative ...  \n",
       "1  washington reuters transgender people will be ...  \n",
       "2  washington reuters the special counsel investi...  \n",
       "3  washington reuters trump campaign adviser geor...  \n",
       "4  seattlewashington reuters president donald tru...  "
      ]
     },
     "metadata": {},
     "output_type": "display_data"
    }
   ],
   "source": [
    "# cleaning the data from uppercase, urls, and extra spaces\n",
    "\n",
    "def cleanText(text):\n",
    "    text = text.lower() # lowercase\n",
    "    text = re.sub(r'http\\S+|www\\S+', '', text) # remove urls\n",
    "    text = re.sub(r'<.*?>', '', text) # remove html\n",
    "    text = re.sub(r'[^a-z\\s]', '', text) # remove symbols\n",
    "    text = re.sub(r'\\s+', ' ', text) # remove extra space\n",
    "    return text\n",
    "\n",
    "newsDF['cleanText'] = newsDF['text'].apply(cleanText)\n",
    "newsDF['cleanTitle'] = newsDF['title'].apply(cleanText)\n",
    "display(newsDF[['title', 'cleanTitle', 'cleanText']].head())\n",
    "\n",
    "# note; re.sub lists the pattern to replace, empty space, and then the saved text"
   ]
  },
  {
   "cell_type": "code",
   "execution_count": 10,
   "id": "a4093688",
   "metadata": {},
   "outputs": [
    {
     "name": "stdout",
     "output_type": "stream",
     "text": [
      "Removed 716 duplicate articles\n",
      "New dataset size: 36592 rows\n"
     ]
    }
   ],
   "source": [
    "# finishing cleaning by removing the duplicate articles\n",
    "\n",
    "before = newsDF.shape[0]\n",
    "newsDF = newsDF.drop_duplicates(subset='cleanText').reset_index(drop = True)\n",
    "after = newsDF.shape[0]\n",
    "\n",
    "print(f\"Removed {before - after} duplicate articles\")\n",
    "print(f\"New dataset size: {after} rows\")"
   ]
  },
  {
   "cell_type": "code",
   "execution_count": 11,
   "id": "2483f786",
   "metadata": {},
   "outputs": [
    {
     "data": {
      "image/png": "[encoded data removed]",
      "text/plain": [
       "<Figure size 600x400 with 1 Axes>"
      ]
     },
     "metadata": {},
     "output_type": "display_data"
    },
    {
     "data": {
      "image/png": "[encoded data removed]",
      "text/plain": [
       "<Figure size 600x400 with 1 Axes>"
      ]
     },
     "metadata": {},
     "output_type": "display_data"
    }
   ],
   "source": [
    "authCounts = newsDF['labelAuthenticity'].value_counts()\n",
    "authLabels = ['Real News (1)', 'Fake News (0)']\n",
    "\n",
    "plt.figure(figsize = (6, 4))\n",
    "plt.bar(authLabels, authCounts)\n",
    "plt.title(\"Distribution of Fake vs Real News\")\n",
    "plt.ylabel(\"Number of Articles\")\n",
    "plt.show()\n",
    "\n",
    "subjectCounts = newsDF['labelSubject'].value_counts()\n",
    "subjectLabels = ['Politics News (0)', 'World News (1)']\n",
    "\n",
    "plt.figure(figsize = (6, 4))\n",
    "plt.bar(subjectLabels, subjectCounts, color = 'Orange')\n",
    "plt.title(\"Distribution of Subject Categories\")\n",
    "plt.ylabel(\"Number of Articles\")\n",
    "plt.show()"
   ]
  },
  {
   "cell_type": "code",
   "execution_count": 12,
   "id": "9c0bd1d0",
   "metadata": {},
   "outputs": [
    {
     "name": "stderr",
     "output_type": "stream",
     "text": [
      "C:\\Users\\elian\\AppData\\Local\\Temp\\ipykernel_8432\\1089107384.py:2: UserWarning: Pandas doesn't allow columns to be created via a new attribute name - see https://pandas.pydata.org/pandas-docs/stable/indexing.html#attribute-access\n",
      "  newsDF.strat, _ = train_test_split(newsDF, train_size = 2000, stratify = newsDF['labelAuthenticity'], random_state = 42)\n"
     ]
    },
    {
     "data": {
      "image/png": "[encoded data removed]",
      "text/plain": [
       "<Figure size 600x400 with 1 Axes>"
      ]
     },
     "metadata": {},
     "output_type": "display_data"
    },
    {
     "data": {
      "image/png": "[encoded data removed]",
      "text/plain": [
       "<Figure size 600x400 with 1 Axes>"
      ]
     },
     "metadata": {},
     "output_type": "display_data"
    }
   ],
   "source": [
    "# takes a sample of 2000 articles without changing the class distribution\n",
    "newsDF.strat, _ = train_test_split(newsDF, train_size = 2000, stratify = newsDF['labelAuthenticity'], random_state = 42)\n",
    "newsDF = newsDF.strat.reset_index(drop = True)\n",
    "\n",
    "authCounts = newsDF['labelAuthenticity'].value_counts()\n",
    "authLabels = ['Real News (1)', 'Fake News (0)']\n",
    "\n",
    "plt.figure(figsize = (6, 4))\n",
    "plt.bar(authLabels, authCounts)\n",
    "plt.title(\"Distribution of Fake vs Real News (Sampled)\")\n",
    "plt.ylabel(\"Number of Articles\")\n",
    "\n",
    "subjectCounts = newsDF['labelSubject'].value_counts()\n",
    "subjectLabels = ['Politics News (0)', 'World News (1)']\n",
    "\n",
    "plt.figure(figsize = (6, 4))\n",
    "plt.bar(subjectLabels, subjectCounts, color = 'Orange')\n",
    "plt.title(\"Distribution of Subject Categories (Sampled)\")\n",
    "plt.ylabel(\"Number of Articles\")\n",
    "plt.show()"
   ]
  },
  {
   "cell_type": "code",
   "execution_count": 13,
   "id": "a45baf5f",
   "metadata": {},
   "outputs": [
    {
     "name": "stdout",
     "output_type": "stream",
     "text": [
      "Combined Text:\n",
      " muslim migrants gang rape yr old girlmuslim lawyer blames girl[SEP]tell us again barack about the poor widows and orphans who are being strategically placed in our small towns and communities across america with all the rape and violence being committed by these refugees why in the world would we welcome these savage animals into our country oh that s right to vote for democrats a muslim councilor has admitted that some feel as though it takes two to tango as men were jailed for gangraping a yearold white girl in west yorkshirethe gang of men from pakistani origin were jailed for a total of years at bradford crown court today for months of horrendous abuse of the british white girl in and however the councillor for keighley central where the abuse took place has admitted that some members of the community felt it takes two to tango and that the girl may have played her part zafar ali who has been a member of the keighley mosque for decades believes that some of the men may have attended in the past but said the muslim community totally condemn their actionshe told mailonline everyone now believes that justice has been done we need to move forward and it is a lesson for the whole muslim community there are a few bad apples but this does not represent the muslim community as a whole and any sensible muslim totally condemns these actions eleven of the men were today jailed for rape and a twelfth man was jailed for sexual activity with a child under today at bradford crown court but the ringleader has fled to bangladeshwest yorkshire police confirmed that the men jailed were of pakistani originthe sentences come as it emerged thatringleader ahmed alchoudhury who facilitated most of the offences is believed to now be living in bangladesh after fleeing at the beginning of the investigation in after the sentencing kris hopkins conservative mp for keighley spoke out against the sick model of organized groups of asian men grooming young white girls but said there are more women out there who need justicehe said the sentenced were vindication for controversial comments he made during a parliamentary debate in claiming that organised groups of asian men were going around raping white girls however he claims that even today he has been lambasted for even mentioning that the men are asian when talking about the sentenceshe told mailonline there are sexual offenders who are white but the fact is this particular model is all asian men and all the victims were white i was attacked in and today when these men were convicted the community was silent you have to ask yourself why these men get away with this behavior there is broader issues around the way women are treated in that community there are hundreds if not thousands of women who live behind that door and have no voice in a commons speech three years ago mr hopkins caused controversy three years ago when he suggested muslim men were fundamentally sexist towards womenjudge roger thomas qc condemned the insolent and disrespectful behaviour the accused showed in court which he said reflected their treatment of their victimthey showed her no shred of decency or humanity when as a vulnerable child she so needed care and understandingjudge roger thomas qc told them the attitudes of the majority of you have so clearly demonstrated to these proceedings has been contemptuous disrespectful and arrogant on a scale that i have hardly seen before in many years of practice in criminal law exactly the same attitude to the year old girl who you all sexually abused and exploited for your own selfish gratification he added none of these defendants had any concern for the victim they were totally uninterested in her welfare and what damage they were causing her the victim clearly demanded pity and understanding but their view of her was heartless and demeaning they saw her as a pathetic figure who had no worth and who served no purpose than to be an object that they could sexually misuse and cast aside via daily mail \n",
      "Authenticity Label: 0\n",
      "Subject label: 0\n"
     ]
    }
   ],
   "source": [
    "newsDF['combinedText'] = newsDF['cleanTitle'] + \"[SEP]\" + newsDF['cleanText']\n",
    "newsDF.sample(5)\n",
    "\n",
    "sampleIDX = 42\n",
    "print(\"Combined Text:\")\n",
    "print(newsDF['combinedText'].iloc[sampleIDX])\n",
    "print(\"Authenticity Label:\", newsDF['labelAuthenticity'].iloc[sampleIDX])\n",
    "print(\"Subject label:\", newsDF['labelSubject'].iloc[sampleIDX])"
   ]
  },
  {
   "cell_type": "code",
   "execution_count": 19,
   "id": "c84438e4",
   "metadata": {},
   "outputs": [
    {
     "data": {
      "image/png": "[encoded data removed]",
      "text/plain": [
       "<Figure size 1000x600 with 1 Axes>"
      ]
     },
     "metadata": {},
     "output_type": "display_data"
    }
   ],
   "source": [
    "tokenizer = BertTokenizer.from_pretrained('bert-base-uncased')\n",
    "tokenLengths = [len(tokenizer.tokenize(text)) for text in newsDF['combinedText']]\n",
    "\n",
    "plt.figure(figsize = (10, 6))\n",
    "plt.hist(tokenLengths, bins = 50, color = 'skyblue')\n",
    "plt.title('Distribution of Token Lengths')\n",
    "plt.xlabel('Toke Count per Article')\n",
    "plt.ylabel('Number of Articles')\n",
    "plt.xlim(0, 1000)\n",
    "plt.grid(True)\n",
    "plt.show()\n",
    "\n",
    "tokens = tokenizer(\n",
    "    list(newsDF['combinedText']),\n",
    "    padding = True,\n",
    "    truncation = True,\n",
    "    return_tensors = \"pt\",\n",
    "    max_length = 256\n",
    ")\n",
    "\n",
    "# note; return_tensors and max_length are NOT user-made variables"
   ]
  },
  {
   "cell_type": "code",
   "execution_count": 17,
   "id": "69b86fab",
   "metadata": {},
   "outputs": [
    {
     "name": "stdout",
     "output_type": "stream",
     "text": [
      "Cosine similarity between Politics and World articles: 0.9757\n"
     ]
    }
   ],
   "source": [
    "politicsTexts = newsDF[newsDF['labelSubject'] == 1]['text'].tolist()\n",
    "worldTexts = newsDF[newsDF['labelSubject'] == 0]['text'].tolist()\n",
    "bert = BertModel.from_pretrained('bert-base-uncased')\n",
    "device = torch.device(\"cuda\" if torch.cuda.is_available() else \"cpu\")\n",
    "bert.to(device)\n",
    "bert.eval()\n",
    "\n",
    "def getClsEmbedding(text):\n",
    "    inputs = tokenizer(text, return_tensors = \"pt\", truncation = True, padding = True, max_length = 256).to(device)\n",
    "    with torch.no_grad():\n",
    "        output = bert(**inputs)\n",
    "    return output.pooler_output.squeeze(0).cpu().numpy()\n",
    "\n",
    "politicsEmbeds =[getClsEmbedding(t) for t in politicsTexts[:10]]\n",
    "worldEmbeds = [getClsEmbedding(t) for t in worldTexts[:10]]\n",
    "\n",
    "avgPolitics = np.mean(politicsEmbeds, axis = 0).reshape(1, -1)\n",
    "avgWorld = np.mean(worldEmbeds, axis = 0).reshape(1, -1)\n",
    "\n",
    "similarity = cosine_similarity(avgPolitics, avgWorld)[0][0]\n",
    "print(f\"Cosine similarity between Politics and World articles: {similarity:.4f}\")"
   ]
  },
  {
   "cell_type": "code",
   "execution_count": 24,
   "id": "da3c80a8",
   "metadata": {},
   "outputs": [],
   "source": [
    "device = torch.device(\"cuda\" if torch.cuda.is_available() else \"cpu\")\n",
    "\n",
    "class BertMultiTaskClassifier(nn.Module):\n",
    "    def __init__(self, dropout = 0.3):\n",
    "        super(BertMultiTaskClassifier, self).__init__()\n",
    "        self.bert = BertModel.from_pretrained('bert-base-uncased', revision = \"main\")\n",
    "        self.dropout = nn.Dropout(dropout)\n",
    "        self.auth_head = nn.Linear(self.bert.config.hidden_size, 1)\n",
    "        self.subject_head = nn.Linear(self.bert.config.hidden_size, 1)\n",
    "\n",
    "    def forward(self, inputIds, attentionMask):\n",
    "        outputs = self.ber(inputIds = inputIds, attentionMask = attentionMask)\n",
    "        clsOutput = outputs.poolerOutput\n",
    "        clsOutput = self.dropout(clsOutput)\n",
    "        authLogits = self.auth_head(clsOutput)\n",
    "        subjectLogits = self.subject_head(clsOutput)\n",
    "        return authLogits, subjectLogits\n",
    "    \n",
    "model = BertMultiTaskClassifier().to(device)"
   ]
  },
  {
   "cell_type": "code",
   "execution_count": 28,
   "id": "c85c2576",
   "metadata": {},
   "outputs": [],
   "source": [
    "class NewsDataset(Dataset):\n",
    "    def __init__(self, encodings, labelsAuth, labelsSubject):\n",
    "        self.encodings = encodings\n",
    "        self.labelsAuth = labelsAuth\n",
    "        self.labelsSubject = labelsSubject\n",
    "\n",
    "    def __len__(self):\n",
    "        return len(self.labelsAuth)\n",
    "    \n",
    "    def __getitem__(self, idx):\n",
    "        item = {key: val[idx] for key, val in self.encodings.items()}\n",
    "        item['authLabels'] = torch.tensor(self.labelsAuth[idx], dtype = torch.float)\n",
    "        item['authSubjects'] = torch.tensor(self.labelsSubject[idx], dtype = torch.float)\n",
    "        return item\n",
    "    \n",
    "newsDF = newsDF.reset_index(drop = True)\n",
    "trainIdx, valIdx, = train_test_split(\n",
    "    range(len(newsDF)), test_size = 0.2, random_state = 42\n",
    ")\n",
    "trainEncodings = {k: v[trainIdx] for k, v in tokens.items()}\n",
    "valEncodings = {k: v[valIdx] for k, v in tokens.items()}\n",
    "\n",
    "trainDataset = NewsDataset(trainEncodings,\n",
    "                           newsDF['labelAuthenticity'].values[trainIdx],\n",
    "                           newsDF['labelSubject'].values[trainIdx])\n",
    "\n",
    "valDataset = NewsDataset(valEncodings,\n",
    "                         newsDF['labelAuthenticity'].values[valIdx],\n",
    "                         newsDF['labelSubject'].values[valIdx])\n"
   ]
  },
  {
   "cell_type": "code",
   "execution_count": null,
   "id": "2d5927ae",
   "metadata": {},
   "outputs": [],
   "source": [
    "device = torch.device(\"cuda\" if torch.cuda.is_available() else \"cpu\")\n",
    "model.to(device)\n",
    "\n",
    "trainLoader = DataLoader(trainDataset, batch_size = 16, shuffle = True, pin_memory = True)\n",
    "valLoader = DataLoader(valDataset, batch_size = 16, pin_memory = True)\n",
    "\n",
    "authLabels = trainDataset.labels_auth\n",
    "countReal = sum(authLabels)\n",
    "countFake = len(authLabels)\n",
    "pos_weight_auth = torch.tensor([countFake / countReal]).to(device)\n",
    "\n",
    "criterionAuth = nn.BCEWithLogitsLoss(pos_weight = pos_weight_auth)\n",
    "criterionSubject = nn.BCEWithLogitsLoss()\n",
    "\n",
    "optimizer = AdamW(model.parameters(), lr = 2e-5)\n",
    "trainLossValues = []\n",
    "valF1Values = []\n",
    "\n",
    "def evaluateModel(returnPreds = False):\n",
    "    model.eval()\n",
    "    allPredsAuth, allLabelsAuth = [], []\n",
    "    allPredsSubject, allLabelsSubject = [], []\n",
    "\n",
    "    with torch.no_grad():\n",
    "        for batch in valLoader:\n",
    "            inputIds = batch['inputIds'].to(device)\n",
    "            attentionMask = batch['attentionMask'].to(device)\n",
    "            labelAuth = batch['labelAuthenticity'].float().to(device)\n",
    "            labelSubject = batch['labelSubject'].float().to(device)\n",
    "\n",
    "            outAuth, outSubject = model(inputIds, attentionMask)\n",
    "            predsAuth = (torch.sigmoid(outAuth).view(-1) > 0.5.int())\n",
    "            predsSubject = (torch.sigmoid(outSubject).view(-1) > 0.5.int())\n",
    "\n",
    "            allPredsAuth.append(predsAuth)\n",
    "            allLabelsAuth.append(labelAuth)\n",
    "            allPredsSubject.append(predsSubject)\n",
    "            allLabelsSubject.append(labelSubject)\n",
    "\n",
    "    allPredsAuth = torch.cat(allPredsAuth).cpu().tolist()\n",
    "    allLabelsAuth = torch.cat(allLabelsAuth).cpu().tolist()\n",
    "    allPredsSubject = torch.cat(allPredsSubject).cpu().tolist()\n",
    "    allLabelsSubject = torch.cat(allLabelsSubject).cpu().tolist()\n",
    "\n",
    "    f1Auth = f1_score(allLabelsAuth, allPredsAuth, average = 'macro')\n",
    "    f1Subject = f1_score(allLabelsSubject, allPredsSubject, average = 'macro')\n",
    "    f1Average = (f1Auth + f1Subject) / 2\n",
    "\n",
    "    print(\"\\nClassification Report for Authenticity (Fake/Real):\")\n",
    "    print(classification_report(allLabelsAuth, allPredsAuth, digits = 4))\n",
    "    print(\"Classification Report for Subject (Politics/World):\")\n",
    "    print(classification_report(allLabelsSubject, allPredsSubject, digits = 4))\n",
    "    print(f\"F1 Auth: {f1Auth:.4f}, F1 Subject: {f1Subject:.4f}, Average F1: {f1Average:.4f}\")\n",
    "\n",
    "    if returnPreds:\n",
    "        return allPredsAuth, allLabelsAuth, allPredsSubject, allLabelsSubject\n",
    "    return f1Average\n",
    "\n",
    "\n"
   ]
  }
 ],
 "metadata": {
  "kernelspec": {
   "display_name": "Python 3",
   "language": "python",
   "name": "python3"
  },
  "language_info": {
   "codemirror_mode": {
    "name": "ipython",
    "version": 3
   },
   "file_extension": ".py",
   "mimetype": "text/x-python",
   "name": "python",
   "nbconvert_exporter": "python",
   "pygments_lexer": "ipython3",
   "version": "3.12.4"
  }
 },
 "nbformat": 4,
 "nbformat_minor": 5
}
